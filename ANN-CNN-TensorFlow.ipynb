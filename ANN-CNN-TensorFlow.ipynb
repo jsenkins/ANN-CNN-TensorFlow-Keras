{
  "cells": [
    {
      "cell_type": "code",
      "execution_count": null,
      "metadata": {
        "id": "D6v7W0HVC-Dx"
      },
      "outputs": [],
      "source": [
        "# Importing the libraries\n",
        "import numpy as np\n",
        "import pandas as pd\n",
        "import tensorflow as tf\n",
        "from keras.preprocessing import image\n",
        "from sklearn import preprocessing\n",
        "from sklearn.model_selection import train_test_split\n",
        "from keras.preprocessing.image import ImageDataGenerator\n",
        "from sklearn.metrics import confusion_matrix, accuracy_score\n",
        "import seaborn as sns\n",
        "import matplotlib.pyplot as plt\n"
      ]
    },
    {
      "cell_type": "code",
      "execution_count": null,
      "metadata": {
        "colab": {
          "base_uri": "https://localhost:8080/",
          "height": 226
        },
        "id": "2RCZGWZXDTdZ",
        "outputId": "00e048ef-195b-4f09-d4a5-fcde77cb293c"
      },
      "outputs": [
        {
          "data": {
            "text/html": [
              "<div>\n",
              "<style scoped>\n",
              "    .dataframe tbody tr th:only-of-type {\n",
              "        vertical-align: middle;\n",
              "    }\n",
              "\n",
              "    .dataframe tbody tr th {\n",
              "        vertical-align: top;\n",
              "    }\n",
              "\n",
              "    .dataframe thead th {\n",
              "        text-align: right;\n",
              "    }\n",
              "</style>\n",
              "<table border=\"1\" class=\"dataframe\">\n",
              "  <thead>\n",
              "    <tr style=\"text-align: right;\">\n",
              "      <th></th>\n",
              "      <th>RowNumber</th>\n",
              "      <th>CustomerId</th>\n",
              "      <th>Surname</th>\n",
              "      <th>CreditScore</th>\n",
              "      <th>Geography</th>\n",
              "      <th>Gender</th>\n",
              "      <th>Age</th>\n",
              "      <th>Tenure</th>\n",
              "      <th>Balance</th>\n",
              "      <th>NumOfProducts</th>\n",
              "      <th>HasCrCard</th>\n",
              "      <th>IsActiveMember</th>\n",
              "      <th>EstimatedSalary</th>\n",
              "      <th>Exited</th>\n",
              "    </tr>\n",
              "  </thead>\n",
              "  <tbody>\n",
              "    <tr>\n",
              "      <th>0</th>\n",
              "      <td>1</td>\n",
              "      <td>15634602</td>\n",
              "      <td>Hargrave</td>\n",
              "      <td>619</td>\n",
              "      <td>France</td>\n",
              "      <td>Female</td>\n",
              "      <td>42</td>\n",
              "      <td>2</td>\n",
              "      <td>0.00</td>\n",
              "      <td>1</td>\n",
              "      <td>1</td>\n",
              "      <td>1</td>\n",
              "      <td>101348.88</td>\n",
              "      <td>1</td>\n",
              "    </tr>\n",
              "    <tr>\n",
              "      <th>1</th>\n",
              "      <td>2</td>\n",
              "      <td>15647311</td>\n",
              "      <td>Hill</td>\n",
              "      <td>608</td>\n",
              "      <td>Spain</td>\n",
              "      <td>Female</td>\n",
              "      <td>41</td>\n",
              "      <td>1</td>\n",
              "      <td>83807.86</td>\n",
              "      <td>1</td>\n",
              "      <td>0</td>\n",
              "      <td>1</td>\n",
              "      <td>112542.58</td>\n",
              "      <td>0</td>\n",
              "    </tr>\n",
              "    <tr>\n",
              "      <th>2</th>\n",
              "      <td>3</td>\n",
              "      <td>15619304</td>\n",
              "      <td>Onio</td>\n",
              "      <td>502</td>\n",
              "      <td>France</td>\n",
              "      <td>Female</td>\n",
              "      <td>42</td>\n",
              "      <td>8</td>\n",
              "      <td>159660.80</td>\n",
              "      <td>3</td>\n",
              "      <td>1</td>\n",
              "      <td>0</td>\n",
              "      <td>113931.57</td>\n",
              "      <td>1</td>\n",
              "    </tr>\n",
              "    <tr>\n",
              "      <th>3</th>\n",
              "      <td>4</td>\n",
              "      <td>15701354</td>\n",
              "      <td>Boni</td>\n",
              "      <td>699</td>\n",
              "      <td>France</td>\n",
              "      <td>Female</td>\n",
              "      <td>39</td>\n",
              "      <td>1</td>\n",
              "      <td>0.00</td>\n",
              "      <td>2</td>\n",
              "      <td>0</td>\n",
              "      <td>0</td>\n",
              "      <td>93826.63</td>\n",
              "      <td>0</td>\n",
              "    </tr>\n",
              "    <tr>\n",
              "      <th>4</th>\n",
              "      <td>5</td>\n",
              "      <td>15737888</td>\n",
              "      <td>Mitchell</td>\n",
              "      <td>850</td>\n",
              "      <td>Spain</td>\n",
              "      <td>Female</td>\n",
              "      <td>43</td>\n",
              "      <td>2</td>\n",
              "      <td>125510.82</td>\n",
              "      <td>1</td>\n",
              "      <td>1</td>\n",
              "      <td>1</td>\n",
              "      <td>79084.10</td>\n",
              "      <td>0</td>\n",
              "    </tr>\n",
              "  </tbody>\n",
              "</table>\n",
              "</div>"
            ],
            "text/plain": [
              "   RowNumber  CustomerId   Surname  CreditScore Geography  Gender  Age  \\\n",
              "0          1    15634602  Hargrave          619    France  Female   42   \n",
              "1          2    15647311      Hill          608     Spain  Female   41   \n",
              "2          3    15619304      Onio          502    France  Female   42   \n",
              "3          4    15701354      Boni          699    France  Female   39   \n",
              "4          5    15737888  Mitchell          850     Spain  Female   43   \n",
              "\n",
              "   Tenure    Balance  NumOfProducts  HasCrCard  IsActiveMember  \\\n",
              "0       2       0.00              1          1               1   \n",
              "1       1   83807.86              1          0               1   \n",
              "2       8  159660.80              3          1               0   \n",
              "3       1       0.00              2          0               0   \n",
              "4       2  125510.82              1          1               1   \n",
              "\n",
              "   EstimatedSalary  Exited  \n",
              "0        101348.88       1  \n",
              "1        112542.58       0  \n",
              "2        113931.57       1  \n",
              "3         93826.63       0  \n",
              "4         79084.10       0  "
            ]
          },
          "execution_count": 6,
          "metadata": {},
          "output_type": "execute_result"
        }
      ],
      "source": [
        "df=pd.read_csv(\"Churn_Modelling.csv\")\n",
        "df.head()"
      ]
    },
    {
      "cell_type": "code",
      "execution_count": null,
      "metadata": {
        "id": "ClWLnQkgEBZx"
      },
      "outputs": [],
      "source": [
        "#add layer : dense, hidden , no od neurons\n",
        "#delta wait= w2-w1\n"
      ]
    },
    {
      "cell_type": "code",
      "execution_count": null,
      "metadata": {
        "id": "fbPq6-aJGmyi"
      },
      "outputs": [],
      "source": [
        "#gender geography, drop surname\n",
        "df.drop(columns=['Surname', 'RowNumber', 'CustomerId'] , inplace=True)"
      ]
    },
    {
      "cell_type": "code",
      "execution_count": null,
      "metadata": {
        "colab": {
          "base_uri": "https://localhost:8080/",
          "height": 226
        },
        "id": "gXzyGOFTOeug",
        "outputId": "00c2ccda-695b-424c-9b39-d7176dad51b8"
      },
      "outputs": [
        {
          "data": {
            "text/html": [
              "<div>\n",
              "<style scoped>\n",
              "    .dataframe tbody tr th:only-of-type {\n",
              "        vertical-align: middle;\n",
              "    }\n",
              "\n",
              "    .dataframe tbody tr th {\n",
              "        vertical-align: top;\n",
              "    }\n",
              "\n",
              "    .dataframe thead th {\n",
              "        text-align: right;\n",
              "    }\n",
              "</style>\n",
              "<table border=\"1\" class=\"dataframe\">\n",
              "  <thead>\n",
              "    <tr style=\"text-align: right;\">\n",
              "      <th></th>\n",
              "      <th>CreditScore</th>\n",
              "      <th>Geography</th>\n",
              "      <th>Gender</th>\n",
              "      <th>Age</th>\n",
              "      <th>Tenure</th>\n",
              "      <th>Balance</th>\n",
              "      <th>NumOfProducts</th>\n",
              "      <th>HasCrCard</th>\n",
              "      <th>IsActiveMember</th>\n",
              "      <th>EstimatedSalary</th>\n",
              "      <th>Exited</th>\n",
              "    </tr>\n",
              "  </thead>\n",
              "  <tbody>\n",
              "    <tr>\n",
              "      <th>0</th>\n",
              "      <td>619</td>\n",
              "      <td>France</td>\n",
              "      <td>Female</td>\n",
              "      <td>42</td>\n",
              "      <td>2</td>\n",
              "      <td>0.00</td>\n",
              "      <td>1</td>\n",
              "      <td>1</td>\n",
              "      <td>1</td>\n",
              "      <td>101348.88</td>\n",
              "      <td>1</td>\n",
              "    </tr>\n",
              "    <tr>\n",
              "      <th>1</th>\n",
              "      <td>608</td>\n",
              "      <td>Spain</td>\n",
              "      <td>Female</td>\n",
              "      <td>41</td>\n",
              "      <td>1</td>\n",
              "      <td>83807.86</td>\n",
              "      <td>1</td>\n",
              "      <td>0</td>\n",
              "      <td>1</td>\n",
              "      <td>112542.58</td>\n",
              "      <td>0</td>\n",
              "    </tr>\n",
              "    <tr>\n",
              "      <th>2</th>\n",
              "      <td>502</td>\n",
              "      <td>France</td>\n",
              "      <td>Female</td>\n",
              "      <td>42</td>\n",
              "      <td>8</td>\n",
              "      <td>159660.80</td>\n",
              "      <td>3</td>\n",
              "      <td>1</td>\n",
              "      <td>0</td>\n",
              "      <td>113931.57</td>\n",
              "      <td>1</td>\n",
              "    </tr>\n",
              "    <tr>\n",
              "      <th>3</th>\n",
              "      <td>699</td>\n",
              "      <td>France</td>\n",
              "      <td>Female</td>\n",
              "      <td>39</td>\n",
              "      <td>1</td>\n",
              "      <td>0.00</td>\n",
              "      <td>2</td>\n",
              "      <td>0</td>\n",
              "      <td>0</td>\n",
              "      <td>93826.63</td>\n",
              "      <td>0</td>\n",
              "    </tr>\n",
              "    <tr>\n",
              "      <th>4</th>\n",
              "      <td>850</td>\n",
              "      <td>Spain</td>\n",
              "      <td>Female</td>\n",
              "      <td>43</td>\n",
              "      <td>2</td>\n",
              "      <td>125510.82</td>\n",
              "      <td>1</td>\n",
              "      <td>1</td>\n",
              "      <td>1</td>\n",
              "      <td>79084.10</td>\n",
              "      <td>0</td>\n",
              "    </tr>\n",
              "  </tbody>\n",
              "</table>\n",
              "</div>"
            ],
            "text/plain": [
              "   CreditScore Geography  Gender  Age  Tenure    Balance  NumOfProducts  \\\n",
              "0          619    France  Female   42       2       0.00              1   \n",
              "1          608     Spain  Female   41       1   83807.86              1   \n",
              "2          502    France  Female   42       8  159660.80              3   \n",
              "3          699    France  Female   39       1       0.00              2   \n",
              "4          850     Spain  Female   43       2  125510.82              1   \n",
              "\n",
              "   HasCrCard  IsActiveMember  EstimatedSalary  Exited  \n",
              "0          1               1        101348.88       1  \n",
              "1          0               1        112542.58       0  \n",
              "2          1               0        113931.57       1  \n",
              "3          0               0         93826.63       0  \n",
              "4          1               1         79084.10       0  "
            ]
          },
          "execution_count": 10,
          "metadata": {},
          "output_type": "execute_result"
        }
      ],
      "source": [
        "df.head()\n"
      ]
    },
    {
      "cell_type": "code",
      "execution_count": null,
      "metadata": {
        "id": "epgP_oSsQ0Os"
      },
      "outputs": [],
      "source": []
    },
    {
      "cell_type": "code",
      "execution_count": null,
      "metadata": {
        "colab": {
          "base_uri": "https://localhost:8080/"
        },
        "id": "30twVvYGOqyu",
        "outputId": "b337007f-e8ab-4654-b353-14ecfcc08012"
      },
      "outputs": [
        {
          "data": {
            "text/plain": [
              "0       0\n",
              "1       0\n",
              "2       0\n",
              "3       0\n",
              "4       0\n",
              "       ..\n",
              "9995    1\n",
              "9996    1\n",
              "9997    0\n",
              "9998    1\n",
              "9999    0\n",
              "Name: Gender, Length: 10000, dtype: int32"
            ]
          },
          "execution_count": 11,
          "metadata": {},
          "output_type": "execute_result"
        }
      ],
      "source": [
        "label_encoder=preprocessing.LabelEncoder()\n",
        "df['Gender']=label_encoder.fit_transform(df['Gender'])\n",
        "df['Geography']=label_encoder.fit(df['Geography'])\n",
        "df['Gender']"
      ]
    },
    {
      "cell_type": "code",
      "execution_count": null,
      "metadata": {
        "id": "XCPv7Ps0Rctk"
      },
      "outputs": [],
      "source": [
        "x=df.iloc[:, 3:-1].values\n",
        "y = df.iloc[:, -1].values\n",
        "xtrain, xtest, ytrain, ytest=train_test_split(x,y, test_size=0.33, random_state=42)\n"
      ]
    },
    {
      "cell_type": "code",
      "execution_count": null,
      "metadata": {
        "colab": {
          "base_uri": "https://localhost:8080/"
        },
        "id": "MvPlo3LfZ5R6",
        "outputId": "4c57e300-afe4-4333-a195-8cd7cc6b8f39"
      },
      "outputs": [
        {
          "data": {
            "text/plain": [
              "array([[4.2000000e+01, 2.0000000e+00, 0.0000000e+00, ..., 1.0000000e+00,\n",
              "        1.0000000e+00, 1.0134888e+05],\n",
              "       [4.1000000e+01, 1.0000000e+00, 8.3807860e+04, ..., 0.0000000e+00,\n",
              "        1.0000000e+00, 1.1254258e+05],\n",
              "       [4.2000000e+01, 8.0000000e+00, 1.5966080e+05, ..., 1.0000000e+00,\n",
              "        0.0000000e+00, 1.1393157e+05],\n",
              "       ...,\n",
              "       [3.6000000e+01, 7.0000000e+00, 0.0000000e+00, ..., 0.0000000e+00,\n",
              "        1.0000000e+00, 4.2085580e+04],\n",
              "       [4.2000000e+01, 3.0000000e+00, 7.5075310e+04, ..., 1.0000000e+00,\n",
              "        0.0000000e+00, 9.2888520e+04],\n",
              "       [2.8000000e+01, 4.0000000e+00, 1.3014279e+05, ..., 1.0000000e+00,\n",
              "        0.0000000e+00, 3.8190780e+04]])"
            ]
          },
          "execution_count": 13,
          "metadata": {},
          "output_type": "execute_result"
        }
      ],
      "source": [
        "x"
      ]
    },
    {
      "cell_type": "code",
      "execution_count": null,
      "metadata": {
        "colab": {
          "base_uri": "https://localhost:8080/"
        },
        "id": "iiJvflYTUHBj",
        "outputId": "7fd754b6-6036-4e05-def9-f7f63768b5b1"
      },
      "outputs": [
        {
          "data": {
            "text/plain": [
              "3.9708582311881077e-16"
            ]
          },
          "execution_count": 14,
          "metadata": {},
          "output_type": "execute_result"
        }
      ],
      "source": [
        "scaler=preprocessing.StandardScaler()\n",
        "xtrain=scaler.fit_transform(xtrain)\n",
        "xtest=scaler.fit_transform(xtest)\n",
        "\n",
        "xtrain.mean()"
      ]
    },
    {
      "cell_type": "code",
      "execution_count": null,
      "metadata": {
        "colab": {
          "base_uri": "https://localhost:8080/"
        },
        "id": "MsOTIhiaaYu3",
        "outputId": "be18b6b0-e812-4087-a24a-035dbe5e3e1a"
      },
      "outputs": [
        {
          "name": "stdout",
          "output_type": "stream",
          "text": [
            "Epoch 1/20\n",
            "745/745 [==============================] - 2s 2ms/step - loss: 0.5207 - accuracy: 0.7703\n",
            "Epoch 2/20\n",
            "745/745 [==============================] - 1s 2ms/step - loss: 0.4494 - accuracy: 0.7919\n",
            "Epoch 3/20\n",
            "745/745 [==============================] - 1s 2ms/step - loss: 0.4376 - accuracy: 0.7915\n",
            "Epoch 4/20\n",
            "745/745 [==============================] - 1s 2ms/step - loss: 0.4284 - accuracy: 0.7925\n",
            "Epoch 5/20\n",
            "745/745 [==============================] - 1s 2ms/step - loss: 0.4196 - accuracy: 0.7964\n",
            "Epoch 6/20\n",
            "745/745 [==============================] - 1s 2ms/step - loss: 0.4124 - accuracy: 0.8048\n",
            "Epoch 7/20\n",
            "745/745 [==============================] - 1s 2ms/step - loss: 0.4076 - accuracy: 0.8121\n",
            "Epoch 8/20\n",
            "745/745 [==============================] - 1s 2ms/step - loss: 0.4020 - accuracy: 0.8164\n",
            "Epoch 9/20\n",
            "745/745 [==============================] - 1s 2ms/step - loss: 0.3966 - accuracy: 0.8181\n",
            "Epoch 10/20\n",
            "745/745 [==============================] - 1s 2ms/step - loss: 0.3910 - accuracy: 0.8193\n",
            "Epoch 11/20\n",
            "745/745 [==============================] - 1s 2ms/step - loss: 0.3868 - accuracy: 0.8216\n",
            "Epoch 12/20\n",
            "745/745 [==============================] - 1s 2ms/step - loss: 0.3829 - accuracy: 0.8370\n",
            "Epoch 13/20\n",
            "745/745 [==============================] - 1s 2ms/step - loss: 0.3800 - accuracy: 0.8433\n",
            "Epoch 14/20\n",
            "745/745 [==============================] - 1s 2ms/step - loss: 0.3775 - accuracy: 0.8446\n",
            "Epoch 15/20\n",
            "745/745 [==============================] - 1s 2ms/step - loss: 0.3755 - accuracy: 0.8466\n",
            "Epoch 16/20\n",
            "745/745 [==============================] - 1s 2ms/step - loss: 0.3735 - accuracy: 0.8464\n",
            "Epoch 17/20\n",
            "745/745 [==============================] - 1s 2ms/step - loss: 0.3716 - accuracy: 0.8496\n",
            "Epoch 18/20\n",
            "745/745 [==============================] - 1s 2ms/step - loss: 0.3709 - accuracy: 0.8503\n",
            "Epoch 19/20\n",
            "745/745 [==============================] - 1s 2ms/step - loss: 0.3693 - accuracy: 0.8513\n",
            "Epoch 20/20\n",
            "745/745 [==============================] - 1s 2ms/step - loss: 0.3678 - accuracy: 0.8515\n"
          ]
        },
        {
          "data": {
            "text/plain": [
              "<keras.src.callbacks.History at 0x1f4ef40f6d0>"
            ]
          },
          "execution_count": 34,
          "metadata": {},
          "output_type": "execute_result"
        }
      ],
      "source": [
        "ann=tf.keras.models.Sequential()\n",
        "ann.add(tf.keras.layers.Dense(units=6, activation='relu'))\n",
        "ann.add(tf.keras.layers.Dense(units=6, activation='relu'))\n",
        "ann.add(tf.keras.layers.Dense(units=1, activation='sigmoid'))\n",
        "ann.compile(optimizer = 'adam', loss = 'binary_crossentropy', metrics = ['accuracy'])\n",
        "#training\n",
        "ann.fit(xtrain, ytrain, batch_size = 9, epochs = 20)\n"
      ]
    },
    {
      "cell_type": "code",
      "execution_count": null,
      "metadata": {
        "id": "PiyaomXWJorc",
        "outputId": "2b94efb9-ce6f-496b-ae90-a8675625221a"
      },
      "outputs": [
        {
          "name": "stdout",
          "output_type": "stream",
          "text": [
            "<bound method Model.predict of <keras.src.engine.sequential.Sequential object at 0x000001F4EDA6FBD0>>\n"
          ]
        }
      ],
      "source": []
    },
    {
      "cell_type": "code",
      "execution_count": null,
      "metadata": {
        "id": "YOC0-E2qJord",
        "outputId": "78fdfcc9-b714-4fe0-b1bf-fdee41265382"
      },
      "outputs": [
        {
          "data": {
            "text/html": [
              "<div>\n",
              "<style scoped>\n",
              "    .dataframe tbody tr th:only-of-type {\n",
              "        vertical-align: middle;\n",
              "    }\n",
              "\n",
              "    .dataframe tbody tr th {\n",
              "        vertical-align: top;\n",
              "    }\n",
              "\n",
              "    .dataframe thead th {\n",
              "        text-align: right;\n",
              "    }\n",
              "</style>\n",
              "<table border=\"1\" class=\"dataframe\">\n",
              "  <thead>\n",
              "    <tr style=\"text-align: right;\">\n",
              "      <th></th>\n",
              "      <th>CreditScore</th>\n",
              "      <th>Geography</th>\n",
              "      <th>Gender</th>\n",
              "      <th>Age</th>\n",
              "      <th>Tenure</th>\n",
              "      <th>Balance</th>\n",
              "      <th>NumOfProducts</th>\n",
              "      <th>HasCrCard</th>\n",
              "      <th>EstimatedSalary</th>\n",
              "      <th>Exited</th>\n",
              "    </tr>\n",
              "  </thead>\n",
              "  <tbody>\n",
              "    <tr>\n",
              "      <th>0</th>\n",
              "      <td>619</td>\n",
              "      <td>LabelEncoder()</td>\n",
              "      <td>0</td>\n",
              "      <td>42</td>\n",
              "      <td>2</td>\n",
              "      <td>0.00</td>\n",
              "      <td>1</td>\n",
              "      <td>1</td>\n",
              "      <td>101348.88</td>\n",
              "      <td>1</td>\n",
              "    </tr>\n",
              "    <tr>\n",
              "      <th>1</th>\n",
              "      <td>608</td>\n",
              "      <td>LabelEncoder()</td>\n",
              "      <td>0</td>\n",
              "      <td>41</td>\n",
              "      <td>1</td>\n",
              "      <td>83807.86</td>\n",
              "      <td>1</td>\n",
              "      <td>0</td>\n",
              "      <td>112542.58</td>\n",
              "      <td>0</td>\n",
              "    </tr>\n",
              "    <tr>\n",
              "      <th>2</th>\n",
              "      <td>502</td>\n",
              "      <td>LabelEncoder()</td>\n",
              "      <td>0</td>\n",
              "      <td>42</td>\n",
              "      <td>8</td>\n",
              "      <td>159660.80</td>\n",
              "      <td>3</td>\n",
              "      <td>1</td>\n",
              "      <td>113931.57</td>\n",
              "      <td>1</td>\n",
              "    </tr>\n",
              "    <tr>\n",
              "      <th>3</th>\n",
              "      <td>699</td>\n",
              "      <td>LabelEncoder()</td>\n",
              "      <td>0</td>\n",
              "      <td>39</td>\n",
              "      <td>1</td>\n",
              "      <td>0.00</td>\n",
              "      <td>2</td>\n",
              "      <td>0</td>\n",
              "      <td>93826.63</td>\n",
              "      <td>0</td>\n",
              "    </tr>\n",
              "    <tr>\n",
              "      <th>4</th>\n",
              "      <td>850</td>\n",
              "      <td>LabelEncoder()</td>\n",
              "      <td>0</td>\n",
              "      <td>43</td>\n",
              "      <td>2</td>\n",
              "      <td>125510.82</td>\n",
              "      <td>1</td>\n",
              "      <td>1</td>\n",
              "      <td>79084.10</td>\n",
              "      <td>0</td>\n",
              "    </tr>\n",
              "    <tr>\n",
              "      <th>...</th>\n",
              "      <td>...</td>\n",
              "      <td>...</td>\n",
              "      <td>...</td>\n",
              "      <td>...</td>\n",
              "      <td>...</td>\n",
              "      <td>...</td>\n",
              "      <td>...</td>\n",
              "      <td>...</td>\n",
              "      <td>...</td>\n",
              "      <td>...</td>\n",
              "    </tr>\n",
              "    <tr>\n",
              "      <th>9995</th>\n",
              "      <td>771</td>\n",
              "      <td>LabelEncoder()</td>\n",
              "      <td>1</td>\n",
              "      <td>39</td>\n",
              "      <td>5</td>\n",
              "      <td>0.00</td>\n",
              "      <td>2</td>\n",
              "      <td>1</td>\n",
              "      <td>96270.64</td>\n",
              "      <td>0</td>\n",
              "    </tr>\n",
              "    <tr>\n",
              "      <th>9996</th>\n",
              "      <td>516</td>\n",
              "      <td>LabelEncoder()</td>\n",
              "      <td>1</td>\n",
              "      <td>35</td>\n",
              "      <td>10</td>\n",
              "      <td>57369.61</td>\n",
              "      <td>1</td>\n",
              "      <td>1</td>\n",
              "      <td>101699.77</td>\n",
              "      <td>0</td>\n",
              "    </tr>\n",
              "    <tr>\n",
              "      <th>9997</th>\n",
              "      <td>709</td>\n",
              "      <td>LabelEncoder()</td>\n",
              "      <td>0</td>\n",
              "      <td>36</td>\n",
              "      <td>7</td>\n",
              "      <td>0.00</td>\n",
              "      <td>1</td>\n",
              "      <td>0</td>\n",
              "      <td>42085.58</td>\n",
              "      <td>1</td>\n",
              "    </tr>\n",
              "    <tr>\n",
              "      <th>9998</th>\n",
              "      <td>772</td>\n",
              "      <td>LabelEncoder()</td>\n",
              "      <td>1</td>\n",
              "      <td>42</td>\n",
              "      <td>3</td>\n",
              "      <td>75075.31</td>\n",
              "      <td>2</td>\n",
              "      <td>1</td>\n",
              "      <td>92888.52</td>\n",
              "      <td>1</td>\n",
              "    </tr>\n",
              "    <tr>\n",
              "      <th>9999</th>\n",
              "      <td>792</td>\n",
              "      <td>LabelEncoder()</td>\n",
              "      <td>0</td>\n",
              "      <td>28</td>\n",
              "      <td>4</td>\n",
              "      <td>130142.79</td>\n",
              "      <td>1</td>\n",
              "      <td>1</td>\n",
              "      <td>38190.78</td>\n",
              "      <td>0</td>\n",
              "    </tr>\n",
              "  </tbody>\n",
              "</table>\n",
              "<p>10000 rows × 10 columns</p>\n",
              "</div>"
            ],
            "text/plain": [
              "      CreditScore       Geography  Gender  Age  Tenure    Balance  \\\n",
              "0             619  LabelEncoder()       0   42       2       0.00   \n",
              "1             608  LabelEncoder()       0   41       1   83807.86   \n",
              "2             502  LabelEncoder()       0   42       8  159660.80   \n",
              "3             699  LabelEncoder()       0   39       1       0.00   \n",
              "4             850  LabelEncoder()       0   43       2  125510.82   \n",
              "...           ...             ...     ...  ...     ...        ...   \n",
              "9995          771  LabelEncoder()       1   39       5       0.00   \n",
              "9996          516  LabelEncoder()       1   35      10   57369.61   \n",
              "9997          709  LabelEncoder()       0   36       7       0.00   \n",
              "9998          772  LabelEncoder()       1   42       3   75075.31   \n",
              "9999          792  LabelEncoder()       0   28       4  130142.79   \n",
              "\n",
              "      NumOfProducts  HasCrCard  EstimatedSalary  Exited  \n",
              "0                 1          1        101348.88       1  \n",
              "1                 1          0        112542.58       0  \n",
              "2                 3          1        113931.57       1  \n",
              "3                 2          0         93826.63       0  \n",
              "4                 1          1         79084.10       0  \n",
              "...             ...        ...              ...     ...  \n",
              "9995              2          1         96270.64       0  \n",
              "9996              1          1        101699.77       0  \n",
              "9997              1          0         42085.58       1  \n",
              "9998              2          1         92888.52       1  \n",
              "9999              1          1         38190.78       0  \n",
              "\n",
              "[10000 rows x 10 columns]"
            ]
          },
          "execution_count": 31,
          "metadata": {},
          "output_type": "execute_result"
        }
      ],
      "source": [
        "df.head()\n",
        "df.drop(columns=['IsActiveMember'])"
      ]
    },
    {
      "cell_type": "code",
      "execution_count": null,
      "metadata": {
        "id": "4CRWUFJ8bxrc",
        "outputId": "f353c3b0-b967-4f6e-db4b-caaff4662bbd"
      },
      "outputs": [
        {
          "name": "stdout",
          "output_type": "stream",
          "text": [
            "1/1 [==============================] - 0s 126ms/step\n",
            "[[ True]]\n"
          ]
        }
      ],
      "source": [
        "print(ann.predict(scaler.transform([[ 600, 40, 3, 60000, 2, 1, 50000]])) > 0.5)\n"
      ]
    },
    {
      "cell_type": "code",
      "execution_count": null,
      "metadata": {
        "colab": {
          "base_uri": "https://localhost:8080/",
          "height": 226
        },
        "id": "PKBuznW9di_S",
        "outputId": "477e830e-0f15-4b9a-8f99-f13a3bb50c7e"
      },
      "outputs": [
        {
          "name": "stdout",
          "output_type": "stream",
          "text": [
            "104/104 [==============================] - 0s 1ms/step\n",
            "[[0 0]\n",
            " [0 0]\n",
            " [0 0]\n",
            " ...\n",
            " [0 0]\n",
            " [0 0]\n",
            " [1 1]]\n"
          ]
        }
      ],
      "source": [
        "yp=ann.predict(xtest)\n",
        "yp=(yp>0.5)\n",
        "results=np.concatenate((yp.reshape(len(yp),1), ytest.reshape(len(ytest),1)),1)\n",
        "print(results)"
      ]
    },
    {
      "cell_type": "code",
      "execution_count": null,
      "metadata": {
        "id": "bMPalG0DJore",
        "outputId": "9fabf936-62a2-4810-f048-52e240c08163"
      },
      "outputs": [
        {
          "data": {
            "image/png": "[encoded data removed]",
            "text/plain": [
              "<Figure size 800x600 with 2 Axes>"
            ]
          },
          "metadata": {},
          "output_type": "display_data"
        }
      ],
      "source": [
        "#cfm\n",
        "\n",
        "\n",
        "cfm=confusion_matrix(ytest, yp)\n",
        "plt.figure(figsize=(8,6), dpi=100)\n",
        "sns.set(font_scale=1.1)\n",
        "ax = sns.heatmap(cfm, annot=True, fmt='d', )\n",
        "\n",
        "\n",
        "plt.show()"
      ]
    },
    {
      "cell_type": "markdown",
      "metadata": {
        "id": "O6ODtyKfJore"
      },
      "source": [
        "Task 2 from scratch"
      ]
    },
    {
      "cell_type": "code",
      "execution_count": null,
      "metadata": {
        "id": "synCHTBaJorh",
        "outputId": "3228068c-4f8c-4319-934e-f393db18bcaf"
      },
      "outputs": [
        {
          "name": "stdout",
          "output_type": "stream",
          "text": [
            "Found 8000 images belonging to 2 classes.\n",
            "Found 2000 images belonging to 2 classes.\n"
          ]
        }
      ],
      "source": [
        "generateData=ImageDataGenerator(rescale=1./255, shear_range=0.2, zoom_range=0.2, horizontal_flip=True)\n",
        "trainingData=generateData.flow_from_directory(\"dataset/training_set\", target_size=(64,64), batch_size=32, class_mode='binary')\n",
        "\n",
        "testPreprocess=ImageDataGenerator(rescale=1./255)\n",
        "test_set=testPreprocess.flow_from_directory('dataset/test_set', target_size = (64, 64),batch_size = 32,class_mode = 'binary')\n",
        "\n",
        "\n",
        "\n",
        "\n"
      ]
    },
    {
      "cell_type": "code",
      "execution_count": null,
      "metadata": {
        "id": "npPVxxfYJorh"
      },
      "outputs": [],
      "source": [
        "cnn=tf.keras.models.Sequential()\n",
        "#using relu activation\n",
        "cnn.add(tf.keras.layers.Conv2D(filters=32, kernel_size=3, activation='relu', input_shape=[64, 64, 3]))"
      ]
    },
    {
      "cell_type": "code",
      "execution_count": null,
      "metadata": {
        "id": "fiaTgBK_Jori"
      },
      "outputs": [],
      "source": [
        "cnn.add(tf.keras.layers.MaxPool2D(pool_size=2, strides=2))\n"
      ]
    },
    {
      "cell_type": "code",
      "execution_count": null,
      "metadata": {
        "id": "vnn3c5X2Jori",
        "outputId": "d230546d-82ea-45f1-c8b2-4a907fe99c8e"
      },
      "outputs": [
        {
          "data": {
            "text/plain": [
              "<keras.src.engine.sequential.Sequential at 0x1f4f32fd490>"
            ]
          },
          "execution_count": 51,
          "metadata": {},
          "output_type": "execute_result"
        }
      ],
      "source": [
        "cnn.add(tf.keras.layers.Conv2D(filters=32, kernel_size=3, activation='relu'))\n",
        "cnn.add(tf.keras.layers.MaxPool2D(pool_size=2, strides=2))\n",
        "cnn"
      ]
    },
    {
      "cell_type": "code",
      "execution_count": null,
      "metadata": {
        "id": "DacvfVPqJori"
      },
      "outputs": [],
      "source": [
        "cnn.add(tf.keras.layers.Flatten())\n"
      ]
    },
    {
      "cell_type": "code",
      "execution_count": null,
      "metadata": {
        "id": "tJaphpdTJorj",
        "outputId": "6581f298-eb12-4a2c-9be0-524cccfa287c"
      },
      "outputs": [
        {
          "data": {
            "text/plain": [
              "(None, 64, 64, 3)"
            ]
          },
          "execution_count": 54,
          "metadata": {},
          "output_type": "execute_result"
        }
      ],
      "source": [
        "cnn.input_shape"
      ]
    },
    {
      "cell_type": "code",
      "execution_count": null,
      "metadata": {
        "id": "6q1m2JwKJorj"
      },
      "outputs": [],
      "source": [
        "cnn.add(tf.keras.layers.Dense(units=200, activation='relu'))\n",
        "\n"
      ]
    },
    {
      "cell_type": "code",
      "execution_count": null,
      "metadata": {
        "id": "v6siGOPFJorj"
      },
      "outputs": [],
      "source": [
        "cnn.add(tf.keras.layers.Dense(units=1, activation='sigmoid'))\n"
      ]
    },
    {
      "cell_type": "markdown",
      "metadata": {
        "id": "wb6aOBb3Jorj"
      },
      "source": [
        "training"
      ]
    },
    {
      "cell_type": "code",
      "execution_count": null,
      "metadata": {
        "id": "wynJbMbxJorj",
        "outputId": "04b4f892-e28a-4a6e-db57-1835851d22f5"
      },
      "outputs": [
        {
          "name": "stdout",
          "output_type": "stream",
          "text": [
            "Epoch 1/20\n",
            "250/250 [==============================] - 32s 121ms/step - loss: 0.5395 - accuracy: 0.7364 - val_loss: 0.5051 - val_accuracy: 0.7660\n",
            "Epoch 2/20\n",
            "250/250 [==============================] - 30s 121ms/step - loss: 0.4978 - accuracy: 0.7594 - val_loss: 0.4793 - val_accuracy: 0.7820\n",
            "Epoch 3/20\n",
            "250/250 [==============================] - 30s 120ms/step - loss: 0.4701 - accuracy: 0.7755 - val_loss: 0.4814 - val_accuracy: 0.7770\n",
            "Epoch 4/20\n",
            "250/250 [==============================] - 30s 122ms/step - loss: 0.4573 - accuracy: 0.7856 - val_loss: 0.4823 - val_accuracy: 0.7815\n",
            "Epoch 5/20\n",
            "250/250 [==============================] - 26s 103ms/step - loss: 0.4538 - accuracy: 0.7856 - val_loss: 0.5336 - val_accuracy: 0.7655\n",
            "Epoch 6/20\n",
            "250/250 [==============================] - 31s 122ms/step - loss: 0.4276 - accuracy: 0.7999 - val_loss: 0.4817 - val_accuracy: 0.7735\n",
            "Epoch 7/20\n",
            "250/250 [==============================] - 30s 121ms/step - loss: 0.4272 - accuracy: 0.8058 - val_loss: 0.4646 - val_accuracy: 0.7835\n",
            "Epoch 8/20\n",
            "250/250 [==============================] - 31s 124ms/step - loss: 0.4114 - accuracy: 0.8131 - val_loss: 0.4970 - val_accuracy: 0.7830\n",
            "Epoch 9/20\n",
            "250/250 [==============================] - 31s 123ms/step - loss: 0.4018 - accuracy: 0.8185 - val_loss: 0.4972 - val_accuracy: 0.7850\n",
            "Epoch 10/20\n",
            "250/250 [==============================] - 32s 126ms/step - loss: 0.3891 - accuracy: 0.8306 - val_loss: 0.4729 - val_accuracy: 0.7955\n",
            "Epoch 11/20\n",
            "250/250 [==============================] - 48s 191ms/step - loss: 0.3849 - accuracy: 0.8296 - val_loss: 0.5115 - val_accuracy: 0.7735\n",
            "Epoch 12/20\n",
            "250/250 [==============================] - 45s 181ms/step - loss: 0.3667 - accuracy: 0.8355 - val_loss: 0.4614 - val_accuracy: 0.8030\n",
            "Epoch 13/20\n",
            "250/250 [==============================] - 40s 160ms/step - loss: 0.3454 - accuracy: 0.8453 - val_loss: 0.4560 - val_accuracy: 0.8055\n",
            "Epoch 14/20\n",
            "250/250 [==============================] - 41s 164ms/step - loss: 0.3317 - accuracy: 0.8551 - val_loss: 0.4520 - val_accuracy: 0.8040\n",
            "Epoch 15/20\n",
            "250/250 [==============================] - 37s 149ms/step - loss: 0.3192 - accuracy: 0.8625 - val_loss: 0.4844 - val_accuracy: 0.7950\n",
            "Epoch 16/20\n",
            "250/250 [==============================] - 37s 147ms/step - loss: 0.3033 - accuracy: 0.8742 - val_loss: 0.5272 - val_accuracy: 0.7850\n",
            "Epoch 17/20\n",
            "250/250 [==============================] - 34s 134ms/step - loss: 0.2926 - accuracy: 0.8788 - val_loss: 0.5178 - val_accuracy: 0.7970\n",
            "Epoch 18/20\n",
            "250/250 [==============================] - 33s 134ms/step - loss: 0.2809 - accuracy: 0.8835 - val_loss: 0.5427 - val_accuracy: 0.7900\n",
            "Epoch 19/20\n",
            "250/250 [==============================] - 32s 126ms/step - loss: 0.2639 - accuracy: 0.8906 - val_loss: 0.5056 - val_accuracy: 0.8030\n",
            "Epoch 20/20\n",
            "250/250 [==============================] - 33s 133ms/step - loss: 0.2448 - accuracy: 0.8988 - val_loss: 0.4920 - val_accuracy: 0.7920\n"
          ]
        },
        {
          "data": {
            "text/plain": [
              "<keras.src.callbacks.History at 0x1f4844d4f10>"
            ]
          },
          "execution_count": 77,
          "metadata": {},
          "output_type": "execute_result"
        }
      ],
      "source": [
        "cnn.compile(optimizer = 'adam', loss = 'binary_crossentropy', metrics = ['accuracy'])\n",
        "cnn.fit(x = trainingData, validation_data = test_set, epochs = 20)\n"
      ]
    },
    {
      "cell_type": "code",
      "execution_count": null,
      "metadata": {
        "id": "JfzvsW57Jork",
        "outputId": "6a9b614d-45d7-4774-afbf-229db2d63729"
      },
      "outputs": [
        {
          "name": "stdout",
          "output_type": "stream",
          "text": [
            "1/1 [==============================] - 0s 130ms/step\n",
            "dog\n"
          ]
        }
      ],
      "source": [
        "# Part 4 - Making a single prediction\n",
        "import numpy as np\n",
        "from keras.preprocessing import image\n",
        "test_image = image.load_img('dataset/single_prediction/cat_or_dog_1.jpg', target_size = (64, 64))\n",
        "test_image = image.img_to_array(test_image)\n",
        "test_image = np.expand_dims(test_image, axis = 0)\n",
        "result = cnn.predict(test_image)\n",
        "trainingData.class_indices\n",
        "if result[0][0] == 1:\n",
        "    prediction = 'dog'\n",
        "else:\n",
        "    prediction = 'cat'\n",
        "print(prediction)"
      ]
    },
    {
      "cell_type": "code",
      "execution_count": null,
      "metadata": {
        "id": "W5T-M3PBJork",
        "outputId": "0408046c-59bf-48eb-e346-9186c5d43ef1"
      },
      "outputs": [
        {
          "name": "stdout",
          "output_type": "stream",
          "text": [
            "1/1 [==============================] - 0s 27ms/step\n",
            "cat\n"
          ]
        }
      ],
      "source": [
        "#now on image 2 which is a cat\n",
        "import numpy as np\n",
        "from keras.preprocessing import image\n",
        "test_image = image.load_img('dataset/single_prediction/cat_or_dog_2.jpg', target_size = (64, 64))\n",
        "test_image = image.img_to_array(test_image)\n",
        "test_image = np.expand_dims(test_image, axis = 0)\n",
        "result = cnn.predict(test_image)\n",
        "trainingData.class_indices\n",
        "if result[0][0] == 1:\n",
        "    prediction = 'dog'\n",
        "else:\n",
        "    prediction = 'cat'\n",
        "print(prediction)"
      ]
    }
  ],
  "metadata": {
    "colab": {
      "provenance": []
    },
    "kernelspec": {
      "display_name": "Python 3",
      "name": "python3"
    },
    "language_info": {
      "codemirror_mode": {
        "name": "ipython",
        "version": 3
      },
      "file_extension": ".py",
      "mimetype": "text/x-python",
      "name": "python",
      "nbconvert_exporter": "python",
      "pygments_lexer": "ipython3",
      "version": "3.11.0"
    }
  },
  "nbformat": 4,
  "nbformat_minor": 0
}